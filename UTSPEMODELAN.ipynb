{
  "nbformat": 4,
  "nbformat_minor": 0,
  "metadata": {
    "colab": {
      "name": "UTSPEMODELAN.ipynb",
      "provenance": []
    },
    "kernelspec": {
      "name": "python3",
      "display_name": "Python 3"
    },
    "language_info": {
      "name": "python"
    }
  },
  "cells": [
    {
      "cell_type": "code",
      "metadata": {
        "id": "j1UA2FO4EW6L"
      },
      "source": [
        "import preprocessor as p\n",
        "import numpy as np \n",
        "import pandas as pd \n",
        "import emoji\n",
        "import keras\n",
        "from sklearn.model_selection import train_test_split\n",
        "import tensorflow as tf\n",
        "from keras.models import Sequential\n",
        "from keras.layers.recurrent import LSTM, GRU,SimpleRNN\n",
        "from keras.layers.core import Dense, Activation, Dropout\n",
        "from keras.layers.embeddings import Embedding\n",
        "#from keras.layers.normalization import Batch Normalization\n",
        "from keras.utils import np_utils\n",
        "from sklearn import preprocessing, decomposition, model_selection, metrics, pipeline\n",
        "from keras.layers import GlobalMaxPooling1D, Conv1D, MaxPooling1D, Flatten, Bidirectional, SpatialDropout1D\n",
        "from keras.preprocessing import sequence, text\n",
        "from keras.callbacks import EarlyStopping\n",
        "from sklearn.preprocessing import LabelEncoder,OneHotEncoder\n",
        "import plotly.graph_objects as go\n",
        "import plotly.express as px\n",
        "from tensorflow.keras.layers import Dense, Input\n",
        "from tensorflow.keras.optimizers import Adam\n",
        "from tensorflow.keras.models import Model\n",
        "from tensorflow.keras.callbacks import ModelCheckpoint\n",
        "#from kaggle_datasets import KaggleDatasets\n",
        "import transformers\n",
        "from transformers import TFAutoModel, AutoTokenizer\n",
        "from tqdm.notebook import tqdm\n",
        "from tokenizers import Tokenizer, models, pre_tokenizers, decoders, processors\n",
        "from tqdm import tqdm"
      ],
      "execution_count": null,
      "outputs": []
    },
    {
      "cell_type": "code",
      "metadata": {
        "id": "SVc99nIPGSKz"
      },
      "source": [
        "data = pd.read_excel('output2.xlsx')"
      ],
      "execution_count": null,
      "outputs": []
    },
    {
      "cell_type": "code",
      "metadata": {
        "colab": {
          "base_uri": "https://localhost:8080/",
          "height": 204
        },
        "id": "4iDUQMAfKDkA",
        "outputId": "8b04c1f8-0961-462f-85b4-eb0201128ce4"
      },
      "source": [
        "data.head()"
      ],
      "execution_count": null,
      "outputs": [
        {
          "output_type": "execute_result",
          "data": {
            "text/html": [
              "<div>\n",
              "<style scoped>\n",
              "    .dataframe tbody tr th:only-of-type {\n",
              "        vertical-align: middle;\n",
              "    }\n",
              "\n",
              "    .dataframe tbody tr th {\n",
              "        vertical-align: top;\n",
              "    }\n",
              "\n",
              "    .dataframe thead th {\n",
              "        text-align: right;\n",
              "    }\n",
              "</style>\n",
              "<table border=\"1\" class=\"dataframe\">\n",
              "  <thead>\n",
              "    <tr style=\"text-align: right;\">\n",
              "      <th></th>\n",
              "      <th>LABEL</th>\n",
              "      <th>Tweet</th>\n",
              "    </tr>\n",
              "  </thead>\n",
              "  <tbody>\n",
              "    <tr>\n",
              "      <th>0</th>\n",
              "      <td>terkejut</td>\n",
              "      <td>a nya bags banget bar ma baca tlisan nya canti...</td>\n",
              "    </tr>\n",
              "    <tr>\n",
              "      <th>1</th>\n",
              "      <td>sedih</td>\n",
              "      <td>aa gervan sayang lpa bat senym yah biar kam ga...</td>\n",
              "    </tr>\n",
              "    <tr>\n",
              "      <th>2</th>\n",
              "      <td>senang</td>\n",
              "      <td>aaa bangga banget hoonie u fd u fd u fd u fd u fd</td>\n",
              "    </tr>\n",
              "    <tr>\n",
              "      <th>3</th>\n",
              "      <td>jijik</td>\n",
              "      <td>aaaa iri iri iri dengki iri iri dengki u fd u ...</td>\n",
              "    </tr>\n",
              "    <tr>\n",
              "      <th>4</th>\n",
              "      <td>sedih</td>\n",
              "      <td>aaak suka banget feel habis nonton kayak the g...</td>\n",
              "    </tr>\n",
              "  </tbody>\n",
              "</table>\n",
              "</div>"
            ],
            "text/plain": [
              "      LABEL                                              Tweet\n",
              "0  terkejut  a nya bags banget bar ma baca tlisan nya canti...\n",
              "1     sedih  aa gervan sayang lpa bat senym yah biar kam ga...\n",
              "2    senang  aaa bangga banget hoonie u fd u fd u fd u fd u fd\n",
              "3     jijik  aaaa iri iri iri dengki iri iri dengki u fd u ...\n",
              "4     sedih  aaak suka banget feel habis nonton kayak the g..."
            ]
          },
          "metadata": {},
          "execution_count": 306
        }
      ]
    },
    {
      "cell_type": "code",
      "metadata": {
        "colab": {
          "base_uri": "https://localhost:8080/"
        },
        "id": "f2gjJoyGKpCB",
        "outputId": "20833a8d-8548-40b4-aecd-182e0ad911ea"
      },
      "source": [
        "data.LABEL.value_counts()\n"
      ],
      "execution_count": null,
      "outputs": [
        {
          "output_type": "execute_result",
          "data": {
            "text/plain": [
              "terkejut    711\n",
              "jijik       677\n",
              "senang      316\n",
              "marah       305\n",
              "sedih       278\n",
              "takut       139\n",
              "Name: LABEL, dtype: int64"
            ]
          },
          "metadata": {},
          "execution_count": 307
        }
      ]
    },
    {
      "cell_type": "code",
      "metadata": {
        "id": "u8YJwOeTK1HV"
      },
      "source": [
        "sent_to_id  = {\"terkejut\":0, \"jijik\":1,\"senang\":2,\"marah\":3,\"sedih\":4,\"takut\":5}"
      ],
      "execution_count": null,
      "outputs": []
    },
    {
      "cell_type": "code",
      "metadata": {
        "id": "F_WJmBZrLmOL"
      },
      "source": [
        "data[\"LABEL_id\"] = data['LABEL'].map(sent_to_id)"
      ],
      "execution_count": null,
      "outputs": []
    },
    {
      "cell_type": "code",
      "metadata": {
        "colab": {
          "base_uri": "https://localhost:8080/",
          "height": 419
        },
        "id": "bOGmUGIUL2Y9",
        "outputId": "a81961f1-a986-4aaf-c552-45dcbcc8bb92"
      },
      "source": [
        "data"
      ],
      "execution_count": null,
      "outputs": [
        {
          "output_type": "execute_result",
          "data": {
            "text/html": [
              "<div>\n",
              "<style scoped>\n",
              "    .dataframe tbody tr th:only-of-type {\n",
              "        vertical-align: middle;\n",
              "    }\n",
              "\n",
              "    .dataframe tbody tr th {\n",
              "        vertical-align: top;\n",
              "    }\n",
              "\n",
              "    .dataframe thead th {\n",
              "        text-align: right;\n",
              "    }\n",
              "</style>\n",
              "<table border=\"1\" class=\"dataframe\">\n",
              "  <thead>\n",
              "    <tr style=\"text-align: right;\">\n",
              "      <th></th>\n",
              "      <th>LABEL</th>\n",
              "      <th>Tweet</th>\n",
              "      <th>LABEL_id</th>\n",
              "    </tr>\n",
              "  </thead>\n",
              "  <tbody>\n",
              "    <tr>\n",
              "      <th>0</th>\n",
              "      <td>terkejut</td>\n",
              "      <td>a nya bags banget bar ma baca tlisan nya canti...</td>\n",
              "      <td>0</td>\n",
              "    </tr>\n",
              "    <tr>\n",
              "      <th>1</th>\n",
              "      <td>sedih</td>\n",
              "      <td>aa gervan sayang lpa bat senym yah biar kam ga...</td>\n",
              "      <td>4</td>\n",
              "    </tr>\n",
              "    <tr>\n",
              "      <th>2</th>\n",
              "      <td>senang</td>\n",
              "      <td>aaa bangga banget hoonie u fd u fd u fd u fd u fd</td>\n",
              "      <td>2</td>\n",
              "    </tr>\n",
              "    <tr>\n",
              "      <th>3</th>\n",
              "      <td>jijik</td>\n",
              "      <td>aaaa iri iri iri dengki iri iri dengki u fd u ...</td>\n",
              "      <td>1</td>\n",
              "    </tr>\n",
              "    <tr>\n",
              "      <th>4</th>\n",
              "      <td>sedih</td>\n",
              "      <td>aaak suka banget feel habis nonton kayak the g...</td>\n",
              "      <td>4</td>\n",
              "    </tr>\n",
              "    <tr>\n",
              "      <th>...</th>\n",
              "      <td>...</td>\n",
              "      <td>...</td>\n",
              "      <td>...</td>\n",
              "    </tr>\n",
              "    <tr>\n",
              "      <th>2421</th>\n",
              "      <td>jijik</td>\n",
              "      <td>yo tmb mak mak</td>\n",
              "      <td>1</td>\n",
              "    </tr>\n",
              "    <tr>\n",
              "      <th>2422</th>\n",
              "      <td>senang</td>\n",
              "      <td>yoon jisng asli ganteng drpda foto emang peson...</td>\n",
              "      <td>2</td>\n",
              "    </tr>\n",
              "    <tr>\n",
              "      <th>2423</th>\n",
              "      <td>sedih</td>\n",
              "      <td>ysfk nonton nyanyi dangdt yg cma jal goyang at...</td>\n",
              "      <td>4</td>\n",
              "    </tr>\n",
              "    <tr>\n",
              "      <th>2424</th>\n",
              "      <td>senang</td>\n",
              "      <td>zon lihat bajnya sajasekali-sekali pegang brng...</td>\n",
              "      <td>2</td>\n",
              "    </tr>\n",
              "    <tr>\n",
              "      <th>2425</th>\n",
              "      <td>jijik</td>\n",
              "      <td>zy ejan dengki gok ni hahaha tengok kikin la s...</td>\n",
              "      <td>1</td>\n",
              "    </tr>\n",
              "  </tbody>\n",
              "</table>\n",
              "<p>2426 rows × 3 columns</p>\n",
              "</div>"
            ],
            "text/plain": [
              "         LABEL                                              Tweet  LABEL_id\n",
              "0     terkejut  a nya bags banget bar ma baca tlisan nya canti...         0\n",
              "1        sedih  aa gervan sayang lpa bat senym yah biar kam ga...         4\n",
              "2       senang  aaa bangga banget hoonie u fd u fd u fd u fd u fd         2\n",
              "3        jijik  aaaa iri iri iri dengki iri iri dengki u fd u ...         1\n",
              "4        sedih  aaak suka banget feel habis nonton kayak the g...         4\n",
              "...        ...                                                ...       ...\n",
              "2421     jijik                                     yo tmb mak mak         1\n",
              "2422    senang  yoon jisng asli ganteng drpda foto emang peson...         2\n",
              "2423     sedih  ysfk nonton nyanyi dangdt yg cma jal goyang at...         4\n",
              "2424    senang  zon lihat bajnya sajasekali-sekali pegang brng...         2\n",
              "2425     jijik  zy ejan dengki gok ni hahaha tengok kikin la s...         1\n",
              "\n",
              "[2426 rows x 3 columns]"
            ]
          },
          "metadata": {},
          "execution_count": 310
        }
      ]
    },
    {
      "cell_type": "code",
      "metadata": {
        "id": "QQFC-_ErboqO"
      },
      "source": [
        "sent_to_id1  = {\"terkejut\":\"POSITIF\", \"jijik\":\"NEGATIF\",\"senang\":\"POSITIF\",\"marah\":\"NEGATIF\",\"sedih\":\"NEGATIF\",\"takut\":\"POSITIF\"}"
      ],
      "execution_count": null,
      "outputs": []
    },
    {
      "cell_type": "code",
      "metadata": {
        "id": "wTJrFQe2cdZt"
      },
      "source": [
        "data[\"SETIMEN\"] = data['LABEL'].map(sent_to_id1)"
      ],
      "execution_count": null,
      "outputs": []
    },
    {
      "cell_type": "code",
      "metadata": {
        "colab": {
          "base_uri": "https://localhost:8080/",
          "height": 419
        },
        "id": "foHwFW9bclIh",
        "outputId": "5840213d-11da-4b79-91ff-4e9d15c4775d"
      },
      "source": [
        "data"
      ],
      "execution_count": null,
      "outputs": [
        {
          "output_type": "execute_result",
          "data": {
            "text/html": [
              "<div>\n",
              "<style scoped>\n",
              "    .dataframe tbody tr th:only-of-type {\n",
              "        vertical-align: middle;\n",
              "    }\n",
              "\n",
              "    .dataframe tbody tr th {\n",
              "        vertical-align: top;\n",
              "    }\n",
              "\n",
              "    .dataframe thead th {\n",
              "        text-align: right;\n",
              "    }\n",
              "</style>\n",
              "<table border=\"1\" class=\"dataframe\">\n",
              "  <thead>\n",
              "    <tr style=\"text-align: right;\">\n",
              "      <th></th>\n",
              "      <th>LABEL</th>\n",
              "      <th>Tweet</th>\n",
              "      <th>LABEL_id</th>\n",
              "      <th>SETIMEN</th>\n",
              "    </tr>\n",
              "  </thead>\n",
              "  <tbody>\n",
              "    <tr>\n",
              "      <th>0</th>\n",
              "      <td>terkejut</td>\n",
              "      <td>a nya bags banget bar ma baca tlisan nya canti...</td>\n",
              "      <td>0</td>\n",
              "      <td>NaN</td>\n",
              "    </tr>\n",
              "    <tr>\n",
              "      <th>1</th>\n",
              "      <td>sedih</td>\n",
              "      <td>aa gervan sayang lpa bat senym yah biar kam ga...</td>\n",
              "      <td>4</td>\n",
              "      <td>NEGATIF</td>\n",
              "    </tr>\n",
              "    <tr>\n",
              "      <th>2</th>\n",
              "      <td>senang</td>\n",
              "      <td>aaa bangga banget hoonie u fd u fd u fd u fd u fd</td>\n",
              "      <td>2</td>\n",
              "      <td>POSITIF</td>\n",
              "    </tr>\n",
              "    <tr>\n",
              "      <th>3</th>\n",
              "      <td>jijik</td>\n",
              "      <td>aaaa iri iri iri dengki iri iri dengki u fd u ...</td>\n",
              "      <td>1</td>\n",
              "      <td>NEGATIF</td>\n",
              "    </tr>\n",
              "    <tr>\n",
              "      <th>4</th>\n",
              "      <td>sedih</td>\n",
              "      <td>aaak suka banget feel habis nonton kayak the g...</td>\n",
              "      <td>4</td>\n",
              "      <td>NEGATIF</td>\n",
              "    </tr>\n",
              "    <tr>\n",
              "      <th>...</th>\n",
              "      <td>...</td>\n",
              "      <td>...</td>\n",
              "      <td>...</td>\n",
              "      <td>...</td>\n",
              "    </tr>\n",
              "    <tr>\n",
              "      <th>2421</th>\n",
              "      <td>jijik</td>\n",
              "      <td>yo tmb mak mak</td>\n",
              "      <td>1</td>\n",
              "      <td>NEGATIF</td>\n",
              "    </tr>\n",
              "    <tr>\n",
              "      <th>2422</th>\n",
              "      <td>senang</td>\n",
              "      <td>yoon jisng asli ganteng drpda foto emang peson...</td>\n",
              "      <td>2</td>\n",
              "      <td>POSITIF</td>\n",
              "    </tr>\n",
              "    <tr>\n",
              "      <th>2423</th>\n",
              "      <td>sedih</td>\n",
              "      <td>ysfk nonton nyanyi dangdt yg cma jal goyang at...</td>\n",
              "      <td>4</td>\n",
              "      <td>NEGATIF</td>\n",
              "    </tr>\n",
              "    <tr>\n",
              "      <th>2424</th>\n",
              "      <td>senang</td>\n",
              "      <td>zon lihat bajnya sajasekali-sekali pegang brng...</td>\n",
              "      <td>2</td>\n",
              "      <td>POSITIF</td>\n",
              "    </tr>\n",
              "    <tr>\n",
              "      <th>2425</th>\n",
              "      <td>jijik</td>\n",
              "      <td>zy ejan dengki gok ni hahaha tengok kikin la s...</td>\n",
              "      <td>1</td>\n",
              "      <td>NEGATIF</td>\n",
              "    </tr>\n",
              "  </tbody>\n",
              "</table>\n",
              "<p>2426 rows × 4 columns</p>\n",
              "</div>"
            ],
            "text/plain": [
              "         LABEL  ...  SETIMEN\n",
              "0     terkejut  ...      NaN\n",
              "1        sedih  ...  NEGATIF\n",
              "2       senang  ...  POSITIF\n",
              "3        jijik  ...  NEGATIF\n",
              "4        sedih  ...  NEGATIF\n",
              "...        ...  ...      ...\n",
              "2421     jijik  ...  NEGATIF\n",
              "2422    senang  ...  POSITIF\n",
              "2423     sedih  ...  NEGATIF\n",
              "2424    senang  ...  POSITIF\n",
              "2425     jijik  ...  NEGATIF\n",
              "\n",
              "[2426 rows x 4 columns]"
            ]
          },
          "metadata": {},
          "execution_count": 292
        }
      ]
    },
    {
      "cell_type": "code",
      "metadata": {
        "id": "YY7p0lT4cxv3"
      },
      "source": [
        "sent_to_id2  = {\"POSITIF\":1, \"NEGATIF\":0}"
      ],
      "execution_count": null,
      "outputs": []
    },
    {
      "cell_type": "code",
      "metadata": {
        "id": "SXhO5qfZcm2e"
      },
      "source": [
        "data[\"SETIMEN_id\"] = data['SETIMEN'].map(sent_to_id2)"
      ],
      "execution_count": null,
      "outputs": []
    },
    {
      "cell_type": "code",
      "metadata": {
        "colab": {
          "base_uri": "https://localhost:8080/",
          "height": 419
        },
        "id": "QIIfqZY6dJ03",
        "outputId": "e12bc74b-a24c-4e3a-c12b-458b6246fbec"
      },
      "source": [
        "data"
      ],
      "execution_count": null,
      "outputs": [
        {
          "output_type": "execute_result",
          "data": {
            "text/html": [
              "<div>\n",
              "<style scoped>\n",
              "    .dataframe tbody tr th:only-of-type {\n",
              "        vertical-align: middle;\n",
              "    }\n",
              "\n",
              "    .dataframe tbody tr th {\n",
              "        vertical-align: top;\n",
              "    }\n",
              "\n",
              "    .dataframe thead th {\n",
              "        text-align: right;\n",
              "    }\n",
              "</style>\n",
              "<table border=\"1\" class=\"dataframe\">\n",
              "  <thead>\n",
              "    <tr style=\"text-align: right;\">\n",
              "      <th></th>\n",
              "      <th>LABEL</th>\n",
              "      <th>Tweet</th>\n",
              "      <th>LABEL_id</th>\n",
              "      <th>SETIMEN</th>\n",
              "      <th>SETIMEN_id</th>\n",
              "    </tr>\n",
              "  </thead>\n",
              "  <tbody>\n",
              "    <tr>\n",
              "      <th>0</th>\n",
              "      <td>terkejut</td>\n",
              "      <td>a nya bags banget bar ma baca tlisan nya canti...</td>\n",
              "      <td>0</td>\n",
              "      <td>POSITIF</td>\n",
              "      <td>1</td>\n",
              "    </tr>\n",
              "    <tr>\n",
              "      <th>1</th>\n",
              "      <td>sedih</td>\n",
              "      <td>aa gervan sayang lpa bat senym yah biar kam ga...</td>\n",
              "      <td>4</td>\n",
              "      <td>NEGATIF</td>\n",
              "      <td>0</td>\n",
              "    </tr>\n",
              "    <tr>\n",
              "      <th>2</th>\n",
              "      <td>senang</td>\n",
              "      <td>aaa bangga banget hoonie u fd u fd u fd u fd u fd</td>\n",
              "      <td>2</td>\n",
              "      <td>POSITIF</td>\n",
              "      <td>1</td>\n",
              "    </tr>\n",
              "    <tr>\n",
              "      <th>3</th>\n",
              "      <td>jijik</td>\n",
              "      <td>aaaa iri iri iri dengki iri iri dengki u fd u ...</td>\n",
              "      <td>1</td>\n",
              "      <td>NEGATIF</td>\n",
              "      <td>0</td>\n",
              "    </tr>\n",
              "    <tr>\n",
              "      <th>4</th>\n",
              "      <td>sedih</td>\n",
              "      <td>aaak suka banget feel habis nonton kayak the g...</td>\n",
              "      <td>4</td>\n",
              "      <td>NEGATIF</td>\n",
              "      <td>0</td>\n",
              "    </tr>\n",
              "    <tr>\n",
              "      <th>...</th>\n",
              "      <td>...</td>\n",
              "      <td>...</td>\n",
              "      <td>...</td>\n",
              "      <td>...</td>\n",
              "      <td>...</td>\n",
              "    </tr>\n",
              "    <tr>\n",
              "      <th>2421</th>\n",
              "      <td>jijik</td>\n",
              "      <td>yo tmb mak mak</td>\n",
              "      <td>1</td>\n",
              "      <td>NEGATIF</td>\n",
              "      <td>0</td>\n",
              "    </tr>\n",
              "    <tr>\n",
              "      <th>2422</th>\n",
              "      <td>senang</td>\n",
              "      <td>yoon jisng asli ganteng drpda foto emang peson...</td>\n",
              "      <td>2</td>\n",
              "      <td>POSITIF</td>\n",
              "      <td>1</td>\n",
              "    </tr>\n",
              "    <tr>\n",
              "      <th>2423</th>\n",
              "      <td>sedih</td>\n",
              "      <td>ysfk nonton nyanyi dangdt yg cma jal goyang at...</td>\n",
              "      <td>4</td>\n",
              "      <td>NEGATIF</td>\n",
              "      <td>0</td>\n",
              "    </tr>\n",
              "    <tr>\n",
              "      <th>2424</th>\n",
              "      <td>senang</td>\n",
              "      <td>zon lihat bajnya sajasekali-sekali pegang brng...</td>\n",
              "      <td>2</td>\n",
              "      <td>POSITIF</td>\n",
              "      <td>1</td>\n",
              "    </tr>\n",
              "    <tr>\n",
              "      <th>2425</th>\n",
              "      <td>jijik</td>\n",
              "      <td>zy ejan dengki gok ni hahaha tengok kikin la s...</td>\n",
              "      <td>1</td>\n",
              "      <td>NEGATIF</td>\n",
              "      <td>0</td>\n",
              "    </tr>\n",
              "  </tbody>\n",
              "</table>\n",
              "<p>2426 rows × 5 columns</p>\n",
              "</div>"
            ],
            "text/plain": [
              "         LABEL  ... SETIMEN_id\n",
              "0     terkejut  ...          1\n",
              "1        sedih  ...          0\n",
              "2       senang  ...          1\n",
              "3        jijik  ...          0\n",
              "4        sedih  ...          0\n",
              "...        ...  ...        ...\n",
              "2421     jijik  ...          0\n",
              "2422    senang  ...          1\n",
              "2423     sedih  ...          0\n",
              "2424    senang  ...          1\n",
              "2425     jijik  ...          0\n",
              "\n",
              "[2426 rows x 5 columns]"
            ]
          },
          "metadata": {},
          "execution_count": 315
        }
      ]
    },
    {
      "cell_type": "code",
      "metadata": {
        "id": "71yJNvVGhfuV"
      },
      "source": [
        "data.drop(data.columns[[0,1,3]], axis = 1, inplace = True)"
      ],
      "execution_count": null,
      "outputs": []
    },
    {
      "cell_type": "code",
      "metadata": {
        "colab": {
          "base_uri": "https://localhost:8080/",
          "height": 419
        },
        "id": "bPEULAEMhsiB",
        "outputId": "bd46076d-ad7a-40b8-bf30-19d02073c203"
      },
      "source": [
        "data"
      ],
      "execution_count": null,
      "outputs": [
        {
          "output_type": "execute_result",
          "data": {
            "text/html": [
              "<div>\n",
              "<style scoped>\n",
              "    .dataframe tbody tr th:only-of-type {\n",
              "        vertical-align: middle;\n",
              "    }\n",
              "\n",
              "    .dataframe tbody tr th {\n",
              "        vertical-align: top;\n",
              "    }\n",
              "\n",
              "    .dataframe thead th {\n",
              "        text-align: right;\n",
              "    }\n",
              "</style>\n",
              "<table border=\"1\" class=\"dataframe\">\n",
              "  <thead>\n",
              "    <tr style=\"text-align: right;\">\n",
              "      <th></th>\n",
              "      <th>LABEL_id</th>\n",
              "      <th>SETIMEN_id</th>\n",
              "    </tr>\n",
              "  </thead>\n",
              "  <tbody>\n",
              "    <tr>\n",
              "      <th>0</th>\n",
              "      <td>0</td>\n",
              "      <td>1</td>\n",
              "    </tr>\n",
              "    <tr>\n",
              "      <th>1</th>\n",
              "      <td>4</td>\n",
              "      <td>0</td>\n",
              "    </tr>\n",
              "    <tr>\n",
              "      <th>2</th>\n",
              "      <td>2</td>\n",
              "      <td>1</td>\n",
              "    </tr>\n",
              "    <tr>\n",
              "      <th>3</th>\n",
              "      <td>1</td>\n",
              "      <td>0</td>\n",
              "    </tr>\n",
              "    <tr>\n",
              "      <th>4</th>\n",
              "      <td>4</td>\n",
              "      <td>0</td>\n",
              "    </tr>\n",
              "    <tr>\n",
              "      <th>...</th>\n",
              "      <td>...</td>\n",
              "      <td>...</td>\n",
              "    </tr>\n",
              "    <tr>\n",
              "      <th>2421</th>\n",
              "      <td>1</td>\n",
              "      <td>0</td>\n",
              "    </tr>\n",
              "    <tr>\n",
              "      <th>2422</th>\n",
              "      <td>2</td>\n",
              "      <td>1</td>\n",
              "    </tr>\n",
              "    <tr>\n",
              "      <th>2423</th>\n",
              "      <td>4</td>\n",
              "      <td>0</td>\n",
              "    </tr>\n",
              "    <tr>\n",
              "      <th>2424</th>\n",
              "      <td>2</td>\n",
              "      <td>1</td>\n",
              "    </tr>\n",
              "    <tr>\n",
              "      <th>2425</th>\n",
              "      <td>1</td>\n",
              "      <td>0</td>\n",
              "    </tr>\n",
              "  </tbody>\n",
              "</table>\n",
              "<p>2426 rows × 2 columns</p>\n",
              "</div>"
            ],
            "text/plain": [
              "      LABEL_id  SETIMEN_id\n",
              "0            0           1\n",
              "1            4           0\n",
              "2            2           1\n",
              "3            1           0\n",
              "4            4           0\n",
              "...        ...         ...\n",
              "2421         1           0\n",
              "2422         2           1\n",
              "2423         4           0\n",
              "2424         2           1\n",
              "2425         1           0\n",
              "\n",
              "[2426 rows x 2 columns]"
            ]
          },
          "metadata": {},
          "execution_count": 317
        }
      ]
    },
    {
      "cell_type": "code",
      "metadata": {
        "id": "cC7K7-5pe9sD"
      },
      "source": [
        "import pandas as pd\n",
        "import numpy as np\n",
        "#visualisation\n",
        "import matplotlib.pyplot as plt\n",
        "%matplotlib inline\n",
        "import seaborn as sns\n",
        "#EDA\n",
        "from collections import Counter\n",
        "import pandas_profiling as pp\n",
        "# data preprocessing\n",
        "from sklearn.preprocessing import StandardScaler\n",
        "# data splitting\n",
        "from sklearn.model_selection import train_test_split\n",
        "# data modeling\n",
        "from sklearn.metrics import confusion_matrix,accuracy_score,roc_curve,classification_report\n",
        "from sklearn.linear_model import LogisticRegression\n",
        "from sklearn.naive_bayes import GaussianNB\n",
        "from xgboost import XGBClassifier\n",
        "from sklearn.ensemble import RandomForestClassifier\n",
        "from sklearn.tree import DecisionTreeClassifier\n",
        "from sklearn.neighbors import KNeighborsClassifier\n",
        "from sklearn.naive_bayes import GaussianNB\n",
        "from sklearn.svm import SVC\n",
        "#ensembling\n",
        "from mlxtend.classifier import StackingCVClassifier"
      ],
      "execution_count": null,
      "outputs": []
    },
    {
      "cell_type": "code",
      "metadata": {
        "id": "_BJCjPIoe_bh"
      },
      "source": [
        "y = data[\"SETIMEN_id\"]\n",
        "X = data.drop('SETIMEN_id',axis=1)\n",
        "X_train, X_test, y_train, y_test = train_test_split(X, y, test_size=0.20, random_state = 0)"
      ],
      "execution_count": null,
      "outputs": []
    },
    {
      "cell_type": "code",
      "metadata": {
        "colab": {
          "base_uri": "https://localhost:8080/"
        },
        "id": "XWi0uKVBfRrI",
        "outputId": "bf7c6b30-f261-4fe3-a867-74bb3ae59d9a"
      },
      "source": [
        "print(y_test.unique())\n",
        "Counter(y_train)"
      ],
      "execution_count": null,
      "outputs": [
        {
          "output_type": "stream",
          "name": "stdout",
          "text": [
            "[1 0]\n"
          ]
        },
        {
          "output_type": "execute_result",
          "data": {
            "text/plain": [
              "Counter({0: 1010, 1: 930})"
            ]
          },
          "metadata": {},
          "execution_count": 320
        }
      ]
    },
    {
      "cell_type": "code",
      "metadata": {
        "colab": {
          "base_uri": "https://localhost:8080/",
          "height": 419
        },
        "id": "9kwK0qZqve61",
        "outputId": "359b3030-a567-424a-a99a-98028fa375cc"
      },
      "source": [
        "X_test"
      ],
      "execution_count": null,
      "outputs": [
        {
          "output_type": "execute_result",
          "data": {
            "text/html": [
              "<div>\n",
              "<style scoped>\n",
              "    .dataframe tbody tr th:only-of-type {\n",
              "        vertical-align: middle;\n",
              "    }\n",
              "\n",
              "    .dataframe tbody tr th {\n",
              "        vertical-align: top;\n",
              "    }\n",
              "\n",
              "    .dataframe thead th {\n",
              "        text-align: right;\n",
              "    }\n",
              "</style>\n",
              "<table border=\"1\" class=\"dataframe\">\n",
              "  <thead>\n",
              "    <tr style=\"text-align: right;\">\n",
              "      <th></th>\n",
              "      <th>LABEL_id</th>\n",
              "    </tr>\n",
              "  </thead>\n",
              "  <tbody>\n",
              "    <tr>\n",
              "      <th>2053</th>\n",
              "      <td>0</td>\n",
              "    </tr>\n",
              "    <tr>\n",
              "      <th>743</th>\n",
              "      <td>1</td>\n",
              "    </tr>\n",
              "    <tr>\n",
              "      <th>2297</th>\n",
              "      <td>0</td>\n",
              "    </tr>\n",
              "    <tr>\n",
              "      <th>1534</th>\n",
              "      <td>3</td>\n",
              "    </tr>\n",
              "    <tr>\n",
              "      <th>1840</th>\n",
              "      <td>1</td>\n",
              "    </tr>\n",
              "    <tr>\n",
              "      <th>...</th>\n",
              "      <td>...</td>\n",
              "    </tr>\n",
              "    <tr>\n",
              "      <th>1192</th>\n",
              "      <td>1</td>\n",
              "    </tr>\n",
              "    <tr>\n",
              "      <th>2265</th>\n",
              "      <td>5</td>\n",
              "    </tr>\n",
              "    <tr>\n",
              "      <th>254</th>\n",
              "      <td>1</td>\n",
              "    </tr>\n",
              "    <tr>\n",
              "      <th>1303</th>\n",
              "      <td>3</td>\n",
              "    </tr>\n",
              "    <tr>\n",
              "      <th>893</th>\n",
              "      <td>2</td>\n",
              "    </tr>\n",
              "  </tbody>\n",
              "</table>\n",
              "<p>486 rows × 1 columns</p>\n",
              "</div>"
            ],
            "text/plain": [
              "      LABEL_id\n",
              "2053         0\n",
              "743          1\n",
              "2297         0\n",
              "1534         3\n",
              "1840         1\n",
              "...        ...\n",
              "1192         1\n",
              "2265         5\n",
              "254          1\n",
              "1303         3\n",
              "893          2\n",
              "\n",
              "[486 rows x 1 columns]"
            ]
          },
          "metadata": {},
          "execution_count": 321
        }
      ]
    },
    {
      "cell_type": "code",
      "metadata": {
        "id": "9gdEuAdah8Bu"
      },
      "source": [
        "scaler = StandardScaler()\n",
        "X_train = scaler.fit_transform(X_train)\n",
        "X_test = scaler.transform(X_test)"
      ],
      "execution_count": null,
      "outputs": []
    },
    {
      "cell_type": "code",
      "metadata": {
        "colab": {
          "base_uri": "https://localhost:8080/"
        },
        "id": "T77_SMQviLMC",
        "outputId": "1c40c90d-d79b-4a40-c7b3-acc170107b15"
      },
      "source": [
        "m6 = 'DecisionTreeClassifier'\n",
        "dt = DecisionTreeClassifier(criterion = 'entropy',random_state=0,max_depth = 4)\n",
        "dt.fit(X_train, y_train)\n",
        "dt_predicted = dt.predict(X_test)\n",
        "dt_conf_matrix = confusion_matrix(y_test, dt_predicted)\n",
        "dt_acc_score = accuracy_score(y_test, dt_predicted)\n",
        "print(\"confussion matrix\")\n",
        "print(dt_conf_matrix)\n",
        "print(\"\\n\")\n",
        "print(\"Accuracy of DecisionTreeClassifier:\",dt_acc_score*100,'\\n')\n",
        "print(classification_report(y_test,dt_predicted))"
      ],
      "execution_count": null,
      "outputs": [
        {
          "output_type": "stream",
          "name": "stdout",
          "text": [
            "confussion matrix\n",
            "[[250   0]\n",
            " [  0 236]]\n",
            "\n",
            "\n",
            "Accuracy of DecisionTreeClassifier: 100.0 \n",
            "\n",
            "              precision    recall  f1-score   support\n",
            "\n",
            "           0       1.00      1.00      1.00       250\n",
            "           1       1.00      1.00      1.00       236\n",
            "\n",
            "    accuracy                           1.00       486\n",
            "   macro avg       1.00      1.00      1.00       486\n",
            "weighted avg       1.00      1.00      1.00       486\n",
            "\n"
          ]
        }
      ]
    },
    {
      "cell_type": "code",
      "metadata": {
        "colab": {
          "base_uri": "https://localhost:8080/"
        },
        "id": "iNbnun2XiU0w",
        "outputId": "5f4c8ce2-c76d-425b-c213-01733e174f20"
      },
      "source": [
        "m4 = 'Extreme Gradient Boost'\n",
        "xgb = XGBClassifier(learning_rate=0.01, n_estimators=25, max_depth=15,gamma=0.6, subsample=0.52,colsample_bytree=0.6,seed=27, \n",
        "                    reg_lambda=2, booster='dart', colsample_bylevel=0.6, colsample_bynode=0.5)\n",
        "xgb.fit(X_train, y_train)\n",
        "xgb_predicted = xgb.predict(X_test)\n",
        "xgb_conf_matrix = confusion_matrix(y_test, xgb_predicted)\n",
        "xgb_acc_score = accuracy_score(y_test, xgb_predicted)\n",
        "print(\"confussion matrix\")\n",
        "print(xgb_conf_matrix)\n",
        "print(\"\\n\")\n",
        "print(\"Accuracy of Extreme Gradient Boost:\",xgb_acc_score*100,'\\n')\n",
        "print(classification_report(y_test,xgb_predicted))"
      ],
      "execution_count": null,
      "outputs": [
        {
          "output_type": "stream",
          "name": "stdout",
          "text": [
            "confussion matrix\n",
            "[[250   0]\n",
            " [  0 236]]\n",
            "\n",
            "\n",
            "Accuracy of Extreme Gradient Boost: 100.0 \n",
            "\n",
            "              precision    recall  f1-score   support\n",
            "\n",
            "           0       1.00      1.00      1.00       250\n",
            "           1       1.00      1.00      1.00       236\n",
            "\n",
            "    accuracy                           1.00       486\n",
            "   macro avg       1.00      1.00      1.00       486\n",
            "weighted avg       1.00      1.00      1.00       486\n",
            "\n"
          ]
        }
      ]
    }
  ]
}